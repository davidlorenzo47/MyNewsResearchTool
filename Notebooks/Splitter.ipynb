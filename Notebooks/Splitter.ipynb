{
 "cells": [
  {
   "cell_type": "code",
   "execution_count": 8,
   "id": "407847aa-c86a-4a00-9535-d13d7899adf5",
   "metadata": {},
   "outputs": [],
   "source": [
    "from langchain.text_splitter import CharacterTextSplitter"
   ]
  },
  {
   "cell_type": "code",
   "execution_count": 9,
   "id": "6f7b2b0a-1a7c-4e6f-a4e8-44a820e9728f",
   "metadata": {},
   "outputs": [],
   "source": [
    "my_splitter = CharacterTextSplitter(\n",
    "    separator = \"\\n\",\n",
    "    chunk_size = 200,\n",
    "    chunk_overlap = 0\n",
    ")"
   ]
  },
  {
   "cell_type": "code",
   "execution_count": 10,
   "id": "90a24cf4-1e60-424b-8c69-c6097c1dce26",
   "metadata": {},
   "outputs": [],
   "source": [
    "text = \"\"\"At an event in San Francisco in November, Sam Altman, the chief executive of the artificial intelligence company OpenAI, was asked what surprises the field would bring in 2024.\n",
    "\n",
    "Online chatbots like OpenAI’s ChatGPT will take “a leap forward that no one expected,” Mr. Altman immediately responded.\n",
    "\n",
    "Sitting beside him, James Manyika, a Google executive, nodded and said, “Plus one to that.”\n",
    "\n",
    "The A.I. industry this year is set to be defined by one main characteristic: a remarkably rapid improvement of the technology as advancements build upon one another, enabling A.I. to generate new kinds of media, mimic human reasoning in new ways and seep into the physical world through a new breed of robot.\n",
    "\n",
    "In the coming months, A.I.-powered image generators like DALL-E and Midjourney will instantly deliver videos as well as still images. And they will gradually merge with chatbots like ChatGPT.\n",
    "\n",
    "That means chatbots will expand well beyond digital text by handling photos, videos, diagrams, charts and other media. They will exhibit behavior that looks more like human reasoning, tackling increasingly complex tasks in fields like math and science. As the technology moves into robots, it will also help to solve problems beyond the digital world.\n",
    "\n",
    "Many of these developments have already started emerging inside the top research labs and in tech products. But in 2024, the power of these products will grow significantly and be used by far more people.\n",
    "\n",
    "“The rapid progress of A.I. will continue,” said David Luan, the chief executive of Adept, an A.I. start-up. “It is inevitable.”\n",
    "\n",
    "OpenAI, Google and other tech companies are advancing A.I. far more quickly than other technologies because of the way the underlying systems are built.\n",
    "\n",
    "Most software apps are built by engineers, one line of computer code at a time, which is typically a slow and tedious process. Companies are improving A.I. more swiftly because the technology relies on neural networks, mathematical systems that can learn skills by analyzing digital data. By pinpointing patterns in data such as Wikipedia articles, books and digital text culled from the internet, a neural network can learn to generate text on its own.\n",
    "\n",
    "Editors’ Picks\n",
    "\n",
    "10 Great Ways to Pop the Question\n",
    "\n",
    "A Good Coat Is Hard to Find\n",
    "\n",
    "8 Fitness Myths That Drive Experts Crazy\n",
    "This year, tech companies plan to feed A.I. systems more data — including images, sounds and more text — than people can wrap their heads around. As these systems learn the relationships between these various kinds of data, they will learn to solve increasingly complex problems, preparing them for life in the physical world.\n",
    "\n",
    "(The New York Times sued OpenAI and Microsoft last month for copyright infringement of news content related to A.I. systems.)\n",
    "\n",
    "None of this means that A.I. will be able to match the human brain anytime soon. While A.I. companies and entrepreneurs aim to create what they call “artificial general intelligence” — a machine that can do anything the human brain can do — this remains a daunting task. For all its rapid gains, A.I. remains in the early stages.\n",
    "\n",
    "Here’s a guide to how A.I. is set to change this year, beginning with the nearest-term advancements, which will lead to further progress in its abilities.\n",
    "\n",
    "Instant Videos\n",
    "Until now, A.I.-powered applications mostly generated text and still images in response to prompts. DALL-E, for instance, can create photorealistic images within seconds off requests like “a rhino diving off the Golden Gate Bridge.”\n",
    "\n",
    "But this year, companies such as OpenAI, Google, Meta and the New York-based Runway are likely to deploy image generators that allow people to generate videos, too. These companies have already built prototypes of tools that can instantly create videos from short text prompts.\n",
    "\n",
    "Tech companies are likely to fold the powers of image and video generators into chatbots, making the chatbots more powerful.\n",
    "\n",
    "‘Multimodal’ Chatbots\n",
    "Chatbots and image generators, originally developed as separate tools, are gradually merging. When OpenAI debuted a new version of ChatGPT last year, the chatbot could generate images as well as text.\n",
    "\n",
    "A.I. companies are building “multimodal” systems, meaning the A.I. can handle multiple types of media. These systems learn skills by analyzing photos, text and potentially other kinds of media, including diagrams, charts, sounds and video, so they can then produce their own text, images and sounds.\n",
    "\n",
    "That isn’t all. Because the systems are also learning the relationships between different types of media, they will be able to understand one type of media and respond with another. In other words, someone may feed an image into chatbot and it will respond with text.\n",
    "\n",
    "“The technology will get smarter, more useful,” said Ahmad Al-Dahle, who leads the generative A.I. group at Meta. “It will do more things.”\n",
    "\n",
    "Multimodal chatbots will get stuff wrong, just as text-only chatbots make mistakes. Tech companies are working to reduce errors as they strive to build chatbots that can reason like a human.\n",
    "\n",
    "Better ‘Reasoning’\n",
    "When Mr. Altman talks about A.I.’s taking a leap forward, he is referring to chatbots that are better at “reasoning” so they can take on more complex tasks, such as solving complicated math problems and generating detailed computer programs.\n",
    "\n",
    "The aim is to build systems that can carefully and logically solve a problem through a series of discrete steps, each one building on the next. That is how humans reason, at least in some cases.\n",
    "\n",
    "Leading scientists disagree on whether chatbots can truly reason like that. Some argue that these systems merely seem to reason as they repeat behavior they have seen in internet data. But OpenAI and others are building systems that can more reliably answer complex questions involving subjects like math, computer programming, physics and other sciences.\n",
    "\n",
    "“As systems become more reliable, they will become more popular,” said Nick Frosst, a former Google researcher who helps lead Cohere, an A.I. start-up.\n",
    "\n",
    "If chatbots are better at reasoning, they can then turn into “A.I. agents.”\n",
    "\n",
    "‘A.I. Agents’\n",
    "As companies teach A.I. systems how to work through complex problems one step at a time, they can also improve the ability of chatbots to use software apps and websites on your behalf.\n",
    "\n",
    "Researchers are essentially transforming chatbots into a new kind of autonomous system called an A.I. agent. That means the chatbots can use software apps, websites and other online tools, including spreadsheets, online calendars and travel sites. People could then offload tedious office work to chatbots. But these agents could also take away jobs entirely.\n",
    "\n",
    "Chatbots already operate as agents in small ways. They can schedule meetings, edit files, analyze data and build bar charts. But these tools do not always work as well as they need to. Agents break down entirely when applied to more complex tasks.\n",
    "\n",
    "This year, A.I. companies are set to unveil agents that are more reliable. “You should be able to delegate any tedious, day-to-day computer work to an agent,” Mr. Luan said.\n",
    "\n",
    "This might include keeping track of expenses in an app like QuickBooks or logging vacation days in an app like Workday. In the long run, it will extend beyond software and internet services and into the world of robotics.\n",
    "\n",
    "Smarter Robots\n",
    "In the past, robots were programmed to perform the same task over and over again, such as picking up boxes that are always the same size and shape. But using the same kind of technology that underpins chatbots, researchers are giving robots the power to handle more complex tasks — including those they have never seen before.\n",
    "\n",
    "Just as chatbots can learn to predict the next word in a sentence by analyzing vast amounts of digital text, a robot can learn to predict what will happen in the physical world by analyzing countless videos of objects being prodded, lifted and moved.\n",
    "\n",
    "“These technologies can absorb tremendous amounts of data. And as they absorb data, they can learn how the world works, how physics work, how you interact with objects,” said Peter Chen, a former OpenAI researcher who runs Covariant, a robotics start-up.\n",
    "\n",
    "This year, A.I. will supercharge robots that operate behind the scenes, like mechanical arms that fold shirts at a laundromat or sort piles of stuff inside a warehouse. Tech titans like Elon Musk are also working to move humanoid robots into people’s homes.\"\"\""
   ]
  },
  {
   "cell_type": "code",
   "execution_count": 12,
   "id": "5a219454-7760-49b6-8748-3af6a73f0c21",
   "metadata": {},
   "outputs": [
    {
     "name": "stderr",
     "output_type": "stream",
     "text": [
      "Created a chunk of size 308, which is longer than the specified 200\n",
      "Created a chunk of size 351, which is longer than the specified 200\n",
      "Created a chunk of size 204, which is longer than the specified 200\n",
      "Created a chunk of size 453, which is longer than the specified 200\n",
      "Created a chunk of size 326, which is longer than the specified 200\n",
      "Created a chunk of size 329, which is longer than the specified 200\n",
      "Created a chunk of size 232, which is longer than the specified 200\n",
      "Created a chunk of size 277, which is longer than the specified 200\n",
      "Created a chunk of size 299, which is longer than the specified 200\n",
      "Created a chunk of size 267, which is longer than the specified 200\n",
      "Created a chunk of size 241, which is longer than the specified 200\n",
      "Created a chunk of size 355, which is longer than the specified 200\n",
      "Created a chunk of size 359, which is longer than the specified 200\n",
      "Created a chunk of size 247, which is longer than the specified 200\n",
      "Created a chunk of size 221, which is longer than the specified 200\n",
      "Created a chunk of size 326, which is longer than the specified 200\n",
      "Created a chunk of size 250, which is longer than the specified 200\n",
      "Created a chunk of size 254, which is longer than the specified 200\n"
     ]
    },
    {
     "data": {
      "text/plain": [
       "39"
      ]
     },
     "execution_count": 12,
     "metadata": {},
     "output_type": "execute_result"
    }
   ],
   "source": [
    "small_chunks = my_splitter.split_text(text)\n",
    "len(small_chunks)"
   ]
  },
  {
   "cell_type": "code",
   "execution_count": 13,
   "id": "ccdcc648-0e40-4e9d-9040-3a6922515d08",
   "metadata": {},
   "outputs": [
    {
     "data": {
      "text/plain": [
       "['At an event in San Francisco in November, Sam Altman, the chief executive of the artificial intelligence company OpenAI, was asked what surprises the field would bring in 2024.',\n",
       " 'Online chatbots like OpenAI’s ChatGPT will take “a leap forward that no one expected,” Mr. Altman immediately responded.',\n",
       " 'Sitting beside him, James Manyika, a Google executive, nodded and said, “Plus one to that.”',\n",
       " 'The A.I. industry this year is set to be defined by one main characteristic: a remarkably rapid improvement of the technology as advancements build upon one another, enabling A.I. to generate new kinds of media, mimic human reasoning in new ways and seep into the physical world through a new breed of robot.',\n",
       " 'In the coming months, A.I.-powered image generators like DALL-E and Midjourney will instantly deliver videos as well as still images. And they will gradually merge with chatbots like ChatGPT.',\n",
       " 'That means chatbots will expand well beyond digital text by handling photos, videos, diagrams, charts and other media. They will exhibit behavior that looks more like human reasoning, tackling increasingly complex tasks in fields like math and science. As the technology moves into robots, it will also help to solve problems beyond the digital world.',\n",
       " 'Many of these developments have already started emerging inside the top research labs and in tech products. But in 2024, the power of these products will grow significantly and be used by far more people.',\n",
       " '“The rapid progress of A.I. will continue,” said David Luan, the chief executive of Adept, an A.I. start-up. “It is inevitable.”',\n",
       " 'OpenAI, Google and other tech companies are advancing A.I. far more quickly than other technologies because of the way the underlying systems are built.',\n",
       " 'Most software apps are built by engineers, one line of computer code at a time, which is typically a slow and tedious process. Companies are improving A.I. more swiftly because the technology relies on neural networks, mathematical systems that can learn skills by analyzing digital data. By pinpointing patterns in data such as Wikipedia articles, books and digital text culled from the internet, a neural network can learn to generate text on its own.',\n",
       " 'Editors’ Picks\\n10 Great Ways to Pop the Question\\nA Good Coat Is Hard to Find\\n8 Fitness Myths That Drive Experts Crazy',\n",
       " 'This year, tech companies plan to feed A.I. systems more data — including images, sounds and more text — than people can wrap their heads around. As these systems learn the relationships between these various kinds of data, they will learn to solve increasingly complex problems, preparing them for life in the physical world.',\n",
       " '(The New York Times sued OpenAI and Microsoft last month for copyright infringement of news content related to A.I. systems.)',\n",
       " 'None of this means that A.I. will be able to match the human brain anytime soon. While A.I. companies and entrepreneurs aim to create what they call “artificial general intelligence” — a machine that can do anything the human brain can do — this remains a daunting task. For all its rapid gains, A.I. remains in the early stages.',\n",
       " 'Here’s a guide to how A.I. is set to change this year, beginning with the nearest-term advancements, which will lead to further progress in its abilities.\\nInstant Videos',\n",
       " 'Until now, A.I.-powered applications mostly generated text and still images in response to prompts. DALL-E, for instance, can create photorealistic images within seconds off requests like “a rhino diving off the Golden Gate Bridge.”',\n",
       " 'But this year, companies such as OpenAI, Google, Meta and the New York-based Runway are likely to deploy image generators that allow people to generate videos, too. These companies have already built prototypes of tools that can instantly create videos from short text prompts.',\n",
       " 'Tech companies are likely to fold the powers of image and video generators into chatbots, making the chatbots more powerful.\\n‘Multimodal’ Chatbots',\n",
       " 'Chatbots and image generators, originally developed as separate tools, are gradually merging. When OpenAI debuted a new version of ChatGPT last year, the chatbot could generate images as well as text.',\n",
       " 'A.I. companies are building “multimodal” systems, meaning the A.I. can handle multiple types of media. These systems learn skills by analyzing photos, text and potentially other kinds of media, including diagrams, charts, sounds and video, so they can then produce their own text, images and sounds.',\n",
       " 'That isn’t all. Because the systems are also learning the relationships between different types of media, they will be able to understand one type of media and respond with another. In other words, someone may feed an image into chatbot and it will respond with text.',\n",
       " '“The technology will get smarter, more useful,” said Ahmad Al-Dahle, who leads the generative A.I. group at Meta. “It will do more things.”',\n",
       " 'Multimodal chatbots will get stuff wrong, just as text-only chatbots make mistakes. Tech companies are working to reduce errors as they strive to build chatbots that can reason like a human.',\n",
       " 'Better ‘Reasoning’',\n",
       " 'When Mr. Altman talks about A.I.’s taking a leap forward, he is referring to chatbots that are better at “reasoning” so they can take on more complex tasks, such as solving complicated math problems and generating detailed computer programs.',\n",
       " 'The aim is to build systems that can carefully and logically solve a problem through a series of discrete steps, each one building on the next. That is how humans reason, at least in some cases.',\n",
       " 'Leading scientists disagree on whether chatbots can truly reason like that. Some argue that these systems merely seem to reason as they repeat behavior they have seen in internet data. But OpenAI and others are building systems that can more reliably answer complex questions involving subjects like math, computer programming, physics and other sciences.',\n",
       " '“As systems become more reliable, they will become more popular,” said Nick Frosst, a former Google researcher who helps lead Cohere, an A.I. start-up.',\n",
       " 'If chatbots are better at reasoning, they can then turn into “A.I. agents.”\\n‘A.I. Agents’',\n",
       " 'As companies teach A.I. systems how to work through complex problems one step at a time, they can also improve the ability of chatbots to use software apps and websites on your behalf.',\n",
       " 'Researchers are essentially transforming chatbots into a new kind of autonomous system called an A.I. agent. That means the chatbots can use software apps, websites and other online tools, including spreadsheets, online calendars and travel sites. People could then offload tedious office work to chatbots. But these agents could also take away jobs entirely.',\n",
       " 'Chatbots already operate as agents in small ways. They can schedule meetings, edit files, analyze data and build bar charts. But these tools do not always work as well as they need to. Agents break down entirely when applied to more complex tasks.',\n",
       " 'This year, A.I. companies are set to unveil agents that are more reliable. “You should be able to delegate any tedious, day-to-day computer work to an agent,” Mr. Luan said.',\n",
       " 'This might include keeping track of expenses in an app like QuickBooks or logging vacation days in an app like Workday. In the long run, it will extend beyond software and internet services and into the world of robotics.',\n",
       " 'Smarter Robots',\n",
       " 'In the past, robots were programmed to perform the same task over and over again, such as picking up boxes that are always the same size and shape. But using the same kind of technology that underpins chatbots, researchers are giving robots the power to handle more complex tasks — including those they have never seen before.',\n",
       " 'Just as chatbots can learn to predict the next word in a sentence by analyzing vast amounts of digital text, a robot can learn to predict what will happen in the physical world by analyzing countless videos of objects being prodded, lifted and moved.',\n",
       " '“These technologies can absorb tremendous amounts of data. And as they absorb data, they can learn how the world works, how physics work, how you interact with objects,” said Peter Chen, a former OpenAI researcher who runs Covariant, a robotics start-up.',\n",
       " 'This year, A.I. will supercharge robots that operate behind the scenes, like mechanical arms that fold shirts at a laundromat or sort piles of stuff inside a warehouse. Tech titans like Elon Musk are also working to move humanoid robots into people’s homes.']"
      ]
     },
     "execution_count": 13,
     "metadata": {},
     "output_type": "execute_result"
    }
   ],
   "source": [
    "small_chunks"
   ]
  },
  {
   "cell_type": "code",
   "execution_count": 15,
   "id": "bf6a19de-4493-49ba-902c-b4745642716d",
   "metadata": {},
   "outputs": [
    {
     "name": "stdout",
     "output_type": "stream",
     "text": [
      "176\n",
      "120\n",
      "91\n",
      "308\n",
      "191\n",
      "351\n",
      "204\n",
      "128\n",
      "152\n",
      "453\n",
      "117\n",
      "326\n",
      "125\n",
      "329\n",
      "169\n",
      "232\n",
      "277\n",
      "146\n",
      "200\n",
      "299\n",
      "267\n",
      "139\n",
      "190\n",
      "18\n",
      "241\n",
      "194\n",
      "355\n",
      "151\n",
      "89\n",
      "184\n",
      "359\n",
      "247\n",
      "173\n",
      "221\n",
      "14\n",
      "326\n",
      "250\n",
      "254\n",
      "257\n"
     ]
    }
   ],
   "source": [
    "for chunks in small_chunks:\n",
    "    print(len(chunks))"
   ]
  },
  {
   "cell_type": "markdown",
   "id": "7b527a99-c99c-4f3d-9d1f-d295c70affc8",
   "metadata": {},
   "source": [
    "<h3>Recursive Character Text Splitter</H3>"
   ]
  },
  {
   "cell_type": "markdown",
   "id": "003d2fb9-6d35-4ad7-9ace-6f52214bd8ab",
   "metadata": {},
   "source": [
    "As we can see in the above chunks, some of the cunks have size greater than what we specified. Hence we can have multiple seperators, using which the chunks whose size is greater than specified, will get smaller and smaller recursively, based on the list of seperators provided."
   ]
  },
  {
   "cell_type": "code",
   "execution_count": 16,
   "id": "0ada1290-80ee-4a7f-9c7b-8e820e4f5c8f",
   "metadata": {},
   "outputs": [],
   "source": [
    "from langchain.text_splitter import RecursiveCharacterTextSplitter"
   ]
  },
  {
   "cell_type": "code",
   "execution_count": 17,
   "id": "36561631-c78d-4451-a68c-8d5281254ef9",
   "metadata": {},
   "outputs": [],
   "source": [
    "recursive_splitter = RecursiveCharacterTextSplitter(\n",
    "    separators = [\"\\n\\n\", \"\\n\", \" \"],  # List of separators based on requirement (defaults to [\"\\n\\n\", \"\\n\", \" \"])\n",
    "    chunk_size = 200,  # size of each chunk created\n",
    "    chunk_overlap  = 0,  # size of  overlap between chunks in order to maintain the context\n",
    "    length_function = len  # Function to calculate size, currently we are using \"len\" which denotes length of string however you can pass any token counter)\n",
    ")"
   ]
  },
  {
   "cell_type": "code",
   "execution_count": 18,
   "id": "7167c915-268b-4841-ace9-8fbd066457a1",
   "metadata": {},
   "outputs": [],
   "source": [
    "new_chunks = recursive_splitter.split_text(text)"
   ]
  },
  {
   "cell_type": "markdown",
   "id": "9a4db979-45fb-461e-89c5-50a4908c8403",
   "metadata": {},
   "source": [
    "<b>We have 63 chunks with us now.</b>"
   ]
  },
  {
   "cell_type": "code",
   "execution_count": 21,
   "id": "e48bd17a-d114-4fbd-89f5-d6f503cb2334",
   "metadata": {},
   "outputs": [
    {
     "data": {
      "text/plain": [
       "63"
      ]
     },
     "execution_count": 21,
     "metadata": {},
     "output_type": "execute_result"
    }
   ],
   "source": [
    "len(new_chunks)"
   ]
  },
  {
   "cell_type": "markdown",
   "id": "67ff05e7-8fe3-498e-9b1d-7cf86555248d",
   "metadata": {},
   "source": [
    "<b>As we can see form the below lengths of the chunks, length of every chunk is less than 200 Character.</b>"
   ]
  },
  {
   "cell_type": "code",
   "execution_count": 20,
   "id": "50c2ad5a-46f9-4ccb-a4e1-2debc142bcd1",
   "metadata": {},
   "outputs": [
    {
     "name": "stdout",
     "output_type": "stream",
     "text": [
      "176\n",
      "120\n",
      "91\n",
      "195\n",
      "112\n",
      "191\n",
      "192\n",
      "158\n",
      "196\n",
      "7\n",
      "128\n",
      "152\n",
      "198\n",
      "198\n",
      "55\n",
      "78\n",
      "40\n",
      "194\n",
      "131\n",
      "125\n",
      "199\n",
      "129\n",
      "154\n",
      "14\n",
      "196\n",
      "35\n",
      "199\n",
      "77\n",
      "124\n",
      "21\n",
      "194\n",
      "5\n",
      "193\n",
      "105\n",
      "197\n",
      "69\n",
      "139\n",
      "190\n",
      "18\n",
      "198\n",
      "42\n",
      "194\n",
      "199\n",
      "155\n",
      "151\n",
      "75\n",
      "198\n",
      "198\n",
      "160\n",
      "197\n",
      "49\n",
      "173\n",
      "198\n",
      "22\n",
      "14\n",
      "190\n",
      "135\n",
      "199\n",
      "50\n",
      "195\n",
      "58\n",
      "199\n",
      "57\n"
     ]
    }
   ],
   "source": [
    "for chunk in new_chunks:\n",
    "    print(len(chunk))"
   ]
  },
  {
   "cell_type": "code",
   "execution_count": null,
   "id": "06cf77a5-49df-484a-8702-a90265cf56f3",
   "metadata": {},
   "outputs": [],
   "source": []
  }
 ],
 "metadata": {
  "kernelspec": {
   "display_name": "Python 3 (ipykernel)",
   "language": "python",
   "name": "python3"
  },
  "language_info": {
   "codemirror_mode": {
    "name": "ipython",
    "version": 3
   },
   "file_extension": ".py",
   "mimetype": "text/x-python",
   "name": "python",
   "nbconvert_exporter": "python",
   "pygments_lexer": "ipython3",
   "version": "3.11.4"
  }
 },
 "nbformat": 4,
 "nbformat_minor": 5
}
