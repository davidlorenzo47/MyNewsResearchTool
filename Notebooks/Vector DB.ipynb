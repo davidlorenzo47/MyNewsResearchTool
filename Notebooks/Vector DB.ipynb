{
 "cells": [
  {
   "cell_type": "code",
   "execution_count": null,
   "id": "bcbfa892-b8ff-448a-8cdb-e42df30e4f67",
   "metadata": {
    "scrolled": true
   },
   "outputs": [],
   "source": [
    "!pip install faiss-cpu\n",
    "!pip install sentence-transformers"
   ]
  },
  {
   "cell_type": "code",
   "execution_count": 1,
   "id": "8799541e-42d2-4a38-a9ef-6ca4716f5cb9",
   "metadata": {},
   "outputs": [],
   "source": [
    "import pandas as pd\n",
    "pd.set_option('display.max_colwidth', 100)"
   ]
  },
  {
   "cell_type": "code",
   "execution_count": 2,
   "id": "88657571-5ae5-4fc7-bafd-0b3d6ae9aecb",
   "metadata": {},
   "outputs": [
    {
     "data": {
      "text/plain": [
       "(8, 2)"
      ]
     },
     "execution_count": 2,
     "metadata": {},
     "output_type": "execute_result"
    }
   ],
   "source": [
    "df = pd.read_csv(\"data.csv\")\n",
    "df.shape"
   ]
  },
  {
   "cell_type": "code",
   "execution_count": 3,
   "id": "5b444748-f5e0-42bd-8079-8b1abb614920",
   "metadata": {},
   "outputs": [
    {
     "data": {
      "text/html": [
       "<div>\n",
       "<style scoped>\n",
       "    .dataframe tbody tr th:only-of-type {\n",
       "        vertical-align: middle;\n",
       "    }\n",
       "\n",
       "    .dataframe tbody tr th {\n",
       "        vertical-align: top;\n",
       "    }\n",
       "\n",
       "    .dataframe thead th {\n",
       "        text-align: right;\n",
       "    }\n",
       "</style>\n",
       "<table border=\"1\" class=\"dataframe\">\n",
       "  <thead>\n",
       "    <tr style=\"text-align: right;\">\n",
       "      <th></th>\n",
       "      <th>text</th>\n",
       "      <th>category</th>\n",
       "    </tr>\n",
       "  </thead>\n",
       "  <tbody>\n",
       "    <tr>\n",
       "      <th>0</th>\n",
       "      <td>Meditation and yoga can improve mental health</td>\n",
       "      <td>Health</td>\n",
       "    </tr>\n",
       "    <tr>\n",
       "      <th>1</th>\n",
       "      <td>Fruits, whole grains and vegetables helps control blood pressure</td>\n",
       "      <td>Health</td>\n",
       "    </tr>\n",
       "    <tr>\n",
       "      <th>2</th>\n",
       "      <td>These are the latest fashion trends for this week</td>\n",
       "      <td>Fashion</td>\n",
       "    </tr>\n",
       "    <tr>\n",
       "      <th>3</th>\n",
       "      <td>Vibrant color jeans for male are becoming a trend</td>\n",
       "      <td>Fashion</td>\n",
       "    </tr>\n",
       "    <tr>\n",
       "      <th>4</th>\n",
       "      <td>The concert starts at 7 PM tonight</td>\n",
       "      <td>Event</td>\n",
       "    </tr>\n",
       "    <tr>\n",
       "      <th>5</th>\n",
       "      <td>Navaratri dandiya program at Expo center in Mumbai this october</td>\n",
       "      <td>Event</td>\n",
       "    </tr>\n",
       "    <tr>\n",
       "      <th>6</th>\n",
       "      <td>Exciting vacation destinations for your next trip</td>\n",
       "      <td>Travel</td>\n",
       "    </tr>\n",
       "    <tr>\n",
       "      <th>7</th>\n",
       "      <td>Maldives and Srilanka are gaining popularity in terms of low budget vacation places</td>\n",
       "      <td>Travel</td>\n",
       "    </tr>\n",
       "  </tbody>\n",
       "</table>\n",
       "</div>"
      ],
      "text/plain": [
       "                                                                                  text  \\\n",
       "0                                        Meditation and yoga can improve mental health   \n",
       "1                     Fruits, whole grains and vegetables helps control blood pressure   \n",
       "2                                    These are the latest fashion trends for this week   \n",
       "3                                    Vibrant color jeans for male are becoming a trend   \n",
       "4                                                   The concert starts at 7 PM tonight   \n",
       "5                      Navaratri dandiya program at Expo center in Mumbai this october   \n",
       "6                                    Exciting vacation destinations for your next trip   \n",
       "7  Maldives and Srilanka are gaining popularity in terms of low budget vacation places   \n",
       "\n",
       "  category  \n",
       "0   Health  \n",
       "1   Health  \n",
       "2  Fashion  \n",
       "3  Fashion  \n",
       "4    Event  \n",
       "5    Event  \n",
       "6   Travel  \n",
       "7   Travel  "
      ]
     },
     "execution_count": 3,
     "metadata": {},
     "output_type": "execute_result"
    }
   ],
   "source": [
    "df"
   ]
  },
  {
   "cell_type": "code",
   "execution_count": 4,
   "id": "56db3959-9d9d-4d81-827d-830ef8896695",
   "metadata": {},
   "outputs": [
    {
     "name": "stderr",
     "output_type": "stream",
     "text": [
      "C:\\Python311\\Lib\\site-packages\\requests\\__init__.py:102: RequestsDependencyWarning: urllib3 (1.26.18) or chardet (5.2.0)/charset_normalizer (2.0.12) doesn't match a supported version!\n",
      "  warnings.warn(\"urllib3 ({}) or chardet ({})/charset_normalizer ({}) doesn't match a supported \"\n",
      "C:\\Python311\\Lib\\site-packages\\tqdm\\auto.py:21: TqdmWarning: IProgress not found. Please update jupyter and ipywidgets. See https://ipywidgets.readthedocs.io/en/stable/user_install.html\n",
      "  from .autonotebook import tqdm as notebook_tqdm\n"
     ]
    }
   ],
   "source": [
    "from sentence_transformers import SentenceTransformer"
   ]
  },
  {
   "cell_type": "markdown",
   "id": "8246fd53-eeea-4bf1-a083-a8f8dfd74572",
   "metadata": {},
   "source": [
    "<b>Encoding Text to Vectors</b>"
   ]
  },
  {
   "cell_type": "code",
   "execution_count": 5,
   "id": "f743d2a3-c885-4590-8ad6-a9835b1d8bb4",
   "metadata": {},
   "outputs": [],
   "source": [
    "encoder = SentenceTransformer(\"all-mpnet-base-v2\")\n",
    "vectors = encoder.encode(df.text)"
   ]
  },
  {
   "cell_type": "markdown",
   "id": "223af2f2-d168-42df-80fb-062b4dc7baf9",
   "metadata": {},
   "source": [
    "<p>Now, in vectors, we have 8 vectors, and size of each vector is 768</p>"
   ]
  },
  {
   "cell_type": "code",
   "execution_count": 6,
   "id": "942c53a5-96e5-4379-89ad-3c1eb828814d",
   "metadata": {},
   "outputs": [
    {
     "data": {
      "text/plain": [
       "(8, 768)"
      ]
     },
     "execution_count": 6,
     "metadata": {},
     "output_type": "execute_result"
    }
   ],
   "source": [
    "vectors.shape"
   ]
  },
  {
   "cell_type": "markdown",
   "id": "3212f42f-c219-4fff-a0e3-bb43b31d191b",
   "metadata": {},
   "source": [
    "<b>Building FAISS Index for vectors</b>"
   ]
  },
  {
   "cell_type": "code",
   "execution_count": 10,
   "id": "6f0e70f7-1d90-4de0-a4bf-48190c85bb8f",
   "metadata": {},
   "outputs": [
    {
     "data": {
      "text/plain": [
       "768"
      ]
     },
     "execution_count": 10,
     "metadata": {},
     "output_type": "execute_result"
    }
   ],
   "source": [
    "dim = vectors.shape[1]\n",
    "dim"
   ]
  },
  {
   "cell_type": "code",
   "execution_count": 21,
   "id": "f4ed81ec-1a20-430e-96a4-8c062cbeb3b8",
   "metadata": {},
   "outputs": [],
   "source": [
    "import faiss\n",
    "\n",
    "\"\"\"\n",
    "The L2 norm calculates the distance of the vector coordinates from the origin of the vector space.\n",
    "As such, it is also known as the Euclidean norm as it is calculated as the Euclidean distance from the origin.\n",
    "The result is a positive distance value.\n",
    "This is what IndexFlatL2 uses.\n",
    "\"\"\"\n",
    "index = faiss.IndexFlatL2(dim) #we created an empty index"
   ]
  },
  {
   "cell_type": "markdown",
   "id": "b36cdca6-bbed-4e34-86c0-03b84eeeb0e2",
   "metadata": {},
   "source": [
    "<b>Normalize the source vectors</b>"
   ]
  },
  {
   "cell_type": "code",
   "execution_count": 25,
   "id": "f01176c9-7af4-4f49-85a7-b28ad3c33649",
   "metadata": {},
   "outputs": [
    {
     "data": {
      "text/plain": [
       "<faiss.swigfaiss.IndexFlatL2; proxy of <Swig Object of type 'faiss::IndexFlatL2 *' at 0x0000020F7ADA6280> >"
      ]
     },
     "execution_count": 25,
     "metadata": {},
     "output_type": "execute_result"
    }
   ],
   "source": [
    "index.add(vectors) #Now, we input our 8 vectors, and FAISS internally created some Data Structure, that allows us to do some fast similarity search.\n",
    "index"
   ]
  },
  {
   "cell_type": "markdown",
   "id": "dbe96123-033a-42d3-94ca-8f926694a187",
   "metadata": {},
   "source": [
    "<b>Encode search text using same encorder and normalize the output vector</b>"
   ]
  },
  {
   "cell_type": "code",
   "execution_count": 28,
   "id": "ca7dbf25-2f8f-4e01-a184-34cf339ef2af",
   "metadata": {},
   "outputs": [
    {
     "data": {
      "text/plain": [
       "(768,)"
      ]
     },
     "execution_count": 28,
     "metadata": {},
     "output_type": "execute_result"
    }
   ],
   "source": [
    "search_query = \"I want to be healthy\" #our search vector\n",
    "vec = encoder.encode(search_query) #encoding search query into vector\n",
    "vec.shape"
   ]
  },
  {
   "cell_type": "code",
   "execution_count": 29,
   "id": "4d1c3878-e397-4a8a-94e0-b72c96b32ee3",
   "metadata": {},
   "outputs": [
    {
     "data": {
      "text/plain": [
       "(1, 768)"
      ]
     },
     "execution_count": 29,
     "metadata": {},
     "output_type": "execute_result"
    }
   ],
   "source": [
    "import numpy as np\n",
    "svec = np.array(vec).reshape(1,-1) #creating 2D array as search expects 2D array.\n",
    "svec.shape"
   ]
  },
  {
   "cell_type": "markdown",
   "id": "c2d04c57-3b5a-4552-a3be-803009c7b022",
   "metadata": {},
   "source": [
    "<b>Searching for similar vector in the FAISS index created</b>"
   ]
  },
  {
   "cell_type": "code",
   "execution_count": 32,
   "id": "bff032e8-888e-4cdf-afae-6ffee3e64db4",
   "metadata": {},
   "outputs": [],
   "source": [
    "distances, I = index.search(svec, k=2) #we want 2 similar vectors, hence k=2."
   ]
  },
  {
   "cell_type": "code",
   "execution_count": 34,
   "id": "c00b6cb0-38ad-4769-b864-12cd92a79b5b",
   "metadata": {},
   "outputs": [
    {
     "data": {
      "text/plain": [
       "array([[1.3456718, 1.4885883]], dtype=float32)"
      ]
     },
     "execution_count": 34,
     "metadata": {},
     "output_type": "execute_result"
    }
   ],
   "source": [
    "distances"
   ]
  },
  {
   "cell_type": "code",
   "execution_count": 39,
   "id": "6000e453-5c3b-4b24-86a1-634f7a89a43c",
   "metadata": {},
   "outputs": [
    {
     "data": {
      "text/plain": [
       "array([[1, 0]], dtype=int64)"
      ]
     },
     "execution_count": 39,
     "metadata": {},
     "output_type": "execute_result"
    }
   ],
   "source": [
    "I #I is an array and it gives the related sentence's index, here it is in index 0 and 1."
   ]
  },
  {
   "cell_type": "code",
   "execution_count": 40,
   "id": "cf764e4f-26ef-47f4-a65a-6ed037f190dc",
   "metadata": {},
   "outputs": [
    {
     "data": {
      "text/html": [
       "<div>\n",
       "<style scoped>\n",
       "    .dataframe tbody tr th:only-of-type {\n",
       "        vertical-align: middle;\n",
       "    }\n",
       "\n",
       "    .dataframe tbody tr th {\n",
       "        vertical-align: top;\n",
       "    }\n",
       "\n",
       "    .dataframe thead th {\n",
       "        text-align: right;\n",
       "    }\n",
       "</style>\n",
       "<table border=\"1\" class=\"dataframe\">\n",
       "  <thead>\n",
       "    <tr style=\"text-align: right;\">\n",
       "      <th></th>\n",
       "      <th>text</th>\n",
       "      <th>category</th>\n",
       "    </tr>\n",
       "  </thead>\n",
       "  <tbody>\n",
       "    <tr>\n",
       "      <th>1</th>\n",
       "      <td>Fruits, whole grains and vegetables helps control blood pressure</td>\n",
       "      <td>Health</td>\n",
       "    </tr>\n",
       "    <tr>\n",
       "      <th>0</th>\n",
       "      <td>Meditation and yoga can improve mental health</td>\n",
       "      <td>Health</td>\n",
       "    </tr>\n",
       "  </tbody>\n",
       "</table>\n",
       "</div>"
      ],
      "text/plain": [
       "                                                               text category\n",
       "1  Fruits, whole grains and vegetables helps control blood pressure   Health\n",
       "0                     Meditation and yoga can improve mental health   Health"
      ]
     },
     "execution_count": 40,
     "metadata": {},
     "output_type": "execute_result"
    }
   ],
   "source": [
    "df.loc[[1,0]] #revealing sentences at index 1 and 0."
   ]
  },
  {
   "cell_type": "markdown",
   "id": "2e18407c-0c31-4de5-8c62-a5e7b157e11f",
   "metadata": {},
   "source": [
    "As seen from our search query, direct key word search is not applied to the dataset.\n",
    "<br>Instead, semantic search is applied, and the related sentences which are converted to vectors, are displayed using some vector similarity, which in this case is FAISS (Facebook AI Similarity Search)."
   ]
  },
  {
   "cell_type": "code",
   "execution_count": 38,
   "id": "7fbad900-feaf-479b-898e-b426ee02c790",
   "metadata": {},
   "outputs": [
    {
     "data": {
      "text/plain": [
       "'I want to be healthy'"
      ]
     },
     "execution_count": 38,
     "metadata": {},
     "output_type": "execute_result"
    }
   ],
   "source": [
    "search_query"
   ]
  },
  {
   "cell_type": "code",
   "execution_count": null,
   "id": "fee51a56-0e1c-4672-b121-b94f7afcc352",
   "metadata": {},
   "outputs": [],
   "source": []
  }
 ],
 "metadata": {
  "kernelspec": {
   "display_name": "Python 3 (ipykernel)",
   "language": "python",
   "name": "python3"
  },
  "language_info": {
   "codemirror_mode": {
    "name": "ipython",
    "version": 3
   },
   "file_extension": ".py",
   "mimetype": "text/x-python",
   "name": "python",
   "nbconvert_exporter": "python",
   "pygments_lexer": "ipython3",
   "version": "3.11.4"
  }
 },
 "nbformat": 4,
 "nbformat_minor": 5
}
