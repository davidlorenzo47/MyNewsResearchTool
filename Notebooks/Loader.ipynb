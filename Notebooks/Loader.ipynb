{
 "cells": [
  {
   "cell_type": "markdown",
   "id": "23722a5b-9ed9-468e-89b4-6c097fe5ce14",
   "metadata": {},
   "source": [
    "<h3><b>Here, TextLoader Allows to load data from text file</h3></b>\n",
    "<p>A CSVLoader would help us to import data from a CSV file</p>"
   ]
  },
  {
   "cell_type": "code",
   "execution_count": null,
   "id": "a4ec89a8-e921-47a3-a204-8d1ca13b3689",
   "metadata": {},
   "outputs": [],
   "source": [
    "from langchain.document_loaders import TextLoader"
   ]
  },
  {
   "cell_type": "code",
   "execution_count": null,
   "id": "234a5892-0674-4001-a65e-e31059e3447d",
   "metadata": {},
   "outputs": [],
   "source": [
    "data_loader = TextLoader(\"news_1.txt\") #data_loader is an array. at data_loader[0] our document is present.\n",
    "data_loader.load()    #here we load the data and print it.\n",
    "my_data = data_loader.load()"
   ]
  },
  {
   "cell_type": "code",
   "execution_count": null,
   "id": "13c32060-9bfa-4e0b-aa94-b5209fc61475",
   "metadata": {},
   "outputs": [],
   "source": [
    "my_data[0].metadata    #printing metadata of an element."
   ]
  },
  {
   "cell_type": "code",
   "execution_count": 2,
   "id": "9a4eeb48-33ee-4752-8eab-30af44b4eb9e",
   "metadata": {},
   "outputs": [],
   "source": [
    "from langchain.document_loaders import UnstructuredURLLoader #URLLoader will load content from URL"
   ]
  },
  {
   "cell_type": "code",
   "execution_count": 16,
   "id": "e75dc62d-a84f-4e64-b4ca-2014726b528e",
   "metadata": {
    "scrolled": true
   },
   "outputs": [],
   "source": [
    "content_load = UnstructuredURLLoader(\n",
    "    urls = [\n",
    "        \"https://www.gadgets360.com/mobiles/reviews/iphone-15-review-price-in-india-apple-4532174\",\n",
    "        \"https://www.bbc.com/news/world-us-canada-67905336\"\n",
    "    ]\n",
    ")"
   ]
  },
  {
   "cell_type": "code",
   "execution_count": 17,
   "id": "da6a7d41-e5a9-48df-b253-71fb71d26063",
   "metadata": {
    "scrolled": true
   },
   "outputs": [
    {
     "data": {
      "text/plain": [
       "2"
      ]
     },
     "execution_count": 17,
     "metadata": {},
     "output_type": "execute_result"
    }
   ],
   "source": [
    "data = content_load.load()\n",
    "len(data)"
   ]
  },
  {
   "cell_type": "code",
   "execution_count": 22,
   "id": "8687aaae-d081-4974-aa02-9ba40189d06a",
   "metadata": {},
   "outputs": [
    {
     "data": {
      "text/plain": [
       "Document(page_content=\"Home\\n\\nGuide\\n\\nCES 2024\\n\\nNews\\n\\nReviews\\n\\nFeatures\\n\\nVideos\\n                    \\n                                                    Latest\\n                                                        Reviews and First Looks\\n                                                        Buying Guides\\n                                                        Hindi\\n                                                        Cryptocurrency\\n                                                        Entertainment\\n                                                        Events\\n                                                        Features\\n                                                        How Tos\\n                                                        Shorts\\n                                                        Sponsored\\n                                                        TV Shows\\n\\nPodcasts\\n\\nProduct Finder\\n                        \\n                                                            Mobiles\\n                                                            Laptops\\n                                                            TV\\n                                                            Tablets\\n                                                            Smart Watches\\n                                                            Headphones\\n                                                            Cameras\\n                                                            Gaming Consoles\\n                                                            Smart Bands\\n                                                            Speakers\\n                                                            Smart Speakers\\n                                                            AC\\n                                                            Games\\n                                                            Refrigerator\\n                                                            Air Cooler\\n                                                            Air Purifier\\n                                                            Washing Machine\\n                                                            Inverter\\n                                                            Printer\\n\\nCompare\\n                        \\n                                                            Mobiles\\n                                                            Laptops\\n                                                            TV\\n                                                            Tablets\\n                                                            Smart Watches\\n                                                            Headphones\\n                                                            Cameras\\n                                                            Gaming Consoles\\n                                                            Smart Bands\\n                                                            Speakers\\n                                                            Smart Speakers\\n                                                            AC\\n                                                            Games\\n                                                            Refrigerator\\n                                                            Air Cooler\\n                                                            Air Purifier\\n                                                            Washing Machine\\n                                                            Inverter\\n                                                            Printer\\n\\nBrands\\n\\nRecharge\\n                        \\n                                                            Broadband Plans\\n                                                            DTH Recharge\\n                                                            Mobile Recharge\\n\\nMore\\n                    \\n                        Cryptocurrency Prices\\n                        Digital Gold\\n                        Gold Rate\\n                        DEALS\\n                        Amazon Sale\\n                        Flipkart Sale\\n                        Movies\\n                        Web Series\\n                        Service Centers\\n                        Smart Home\\n                                                    Community \\n                                                 Finance\\n                         Club360\\n                                                Silver Rate\\n                        Gadgets 360 on TV new\\n                        Opinions\\n\\n                        Petrol Price\\n                        Diesel Price\\n\\n                                                    Auto\\n\\nWhat's NewBy Croma\\n\\nMobiles\\n\\nTelecom\\n\\nHow To\\n\\nGaming\\n\\nEntertainment\\n\\nCrypto\\n\\nAudio\\n\\nTV\\n\\nPC/Laptops\\n\\nApps\\n\\nTablets\\n\\nScience\\n\\nWearables\\n\\n5G\\n\\nहिंदी\\n\\nHome\\n\\nMobiles\\n\\nMobiles Reviews\\n\\nApple iPhone 15 Review: It's Time to Upgrade\\n\\nApple iPhone 15 Review: It's Time to Upgrade\\n\\nThe standard iPhone model finally gets some notable upgrades\\n\\n\\n    Written by\\xa0Roydon Cerejo |                     Updated: 9 November 2023 18:26 IST                 \\n        \\n\\nThe iPhone 15 starts at Rs. 79,900 in India\\n\\nHighlights\\n\\nThe iPhone 15 features a 48-megapixel main camera sensor\\n\\nIt is powered by the A16 Bionic SoC\\n\\nThe iPhone 15 now comes with Dynamic Island and USB Type-C port\\n\\nAdvertisement\\n\\nOnce every couple of years, Apple brings some big, meaningful changes to its hardware products. And in the years that it doesn't, we get some hilarious memes. 2023 is not a meme year for the iPhone though as the standard iPhone models are once again exciting. We've seen this shift before with some older models too like the iPhone 12, which was the first non-Pro model to get an OLED screen. This year, the iPhone 15 is the most exciting iPhone for me as it finally gets some big-boy upgrades, and all those with an iPhone 12 (or older) holding off for something better can finally take the plunge.\\n\\nThe new model might not look all that different from the past two generations but the new additions borrowed from last year's 14 Pro makes the iPhone 15 (and by extension, the 15 Plus) worth considering. Here's why.\\n\\nApple iPhone 15 price in India\\n\\nThe iPhone 15 starts at the same price as what the iPhone 14 launched at, which is Rs. 79,900 for the 128GB variant. You can opt for 256GB or 512GB variants and the price goes up by Rs. 10,000 with each tier. There are new pastel colours too, which look really nice, but sadly no Product RED variant this time. The iPhone 14 and iPhone 13 are still officially sold by Apple and they start at Rs. 69,900 and Rs. 59,900 respectively. The bundled accessories are still minimal but this time, it's a colour-matched braided USB Type-C cable in the box instead of Lightning, as all iPhones have finally ditched Apple's proprietary connector this year.\\n\\niPhone 14 and iPhone 14 Plus Review: Minor Refreshes and a New Balance\\n\\nApple sent us the top-end variant in blue which officially costs Rs. 1,09,900. You pay a premium for the number models from Apple as usual, but thankfully, you'll most likely never really have to pay this sticker price as there's always bank and credit card offers to avail if you buy online.\\n\\nThe iPhone 15 looks similar to the 14 and 13 from the back\\n\\nApple iPhone 15 design\\n\\nThe iPhone 15 has nearly the same dimensions as the 14 except for the height, which is now slightly more. It is a bit lighter at 171g and this regular-sized model has an excellent in-hand feel. The rounded edges and the soft finish of the frame and glass back gives it a soothing effect. Personally, after coming from an iPhone 13 Pro Max, this size and weight of the 15 felt toy-like at first but I soon appreciated the smaller form factor.\\n\\niPhone 14 Pro Review: Islands in the Screen\\n\\nThe display on the iPhone 15 is still a 6.1-inch OLED panel but it now gets Apple's Dynamic Island from the 14 Pro series. This in itself makes the 15 look modern and on par with Apple's more expensive phones. Sadly, ProMotion doesn't make it to the 15, which means the display still runs at 60Hz and not 120Hz. The always-on feature is also still reserved for just the Pro models. The 15's display is now brighter than the iPhone 14, with 1,000 nits of typical brightness and up to 2,000 nits of peak brightness when outdoors, under sunlight.\\n\\nApple iPhone 15 specifications and software\\n\\nAnother ‘Pro' feature given to the iPhone 15 is the SoC. It's Apple's A16 Bionic which was used in the iPhone 14 Pro models. It has the same number of CPU and GPU cores as last year's iPhone 14, but it's built on a 4nm process (vs 5nm), which means it packs in a billion more transistors in the similar surface area. The iPhone 15 still has the same amount of RAM (6GB) as the iPhone 14. Other features includes stereo speakers, IP68 rating for dust and water resistance, Wi-Fi 6, Bluetooth 5.3, second generation Ultra Wideband (UWB) chip, and a TrueDepth camera in the display for Face ID.\\n\\nDynamic Island comes to the non-Pro series for the first time with the iPhone 15 models\\n\\nThe iPhone 15 ships with iOS 17 and should easily get new iOS versions for the next five years at least. iOS 17 is also available for many older iPhone models and the experience is largely similar across. Some of the new features include personalised Contact Posters for people in your phonebook, the ability to record and send messages over FaceTime if the person doesn't not answer, and many more. Apple has even rolled out sub-version updates for iOS in order to address known overheating issues with the 15 Pro models, and most recently, new features for AirDrop and general bug fixes.\\n\\nGoogle Pixel 8 and Pixel 8 Pro First Impressions: Going Big on AI\\n\\nApple iPhone 15 performance and battery life\\n\\nThe daily performance of the iPhone 15 has been nothing short of great. Apps load quickly, the display is rich and vibrant, and I never got any sense of it lacking power. Notifications that bunch around the Dynamic Island are fun to see and interact with. The 15 mostly ran cool, but there were times when using wireless CarPlay where the back would heat up. Games looked great and ran smoothy, especially the ones from Apple Arcade.\\n\\nHDR videos looked good, especially those shot with Dolby Vision. The stereo speakers get quite loud too and sound quality is enjoyable. Benchmark numbers are solid and are generally higher than most Snapdragon 8 Gen 2 Android phones. The iPhone 15 scored 13,77,284 points in AnTuTu, and 2,500 and 6,209 points in Geekbench 6's single and multicore CPU tests, respectively.\\n\\nThe iPhone 15 now supports USB Type-C making it compatible with a variety of Type-C accessories\\n\\niPhones generally deliver good battery life and the iPhone 15 is no different. Apple promises up to 20 hours of video playback, and our HD video test managed to get somewhat close to that number, running for 16.5 hours. Under normal circumstances, I was easily getting one full day's worth of runtime on one charge, and some days a bit more with lighter use. Fast charging is supported but you'll have to buy the charger separately. Apple claims the 15 can charge up to 50 percent in half an hour with the optional 20W power adapter. Wireless charging is also present.\\n\\nApple iPhone 15 cameras\\n\\nThe iPhone 15 still lacks a telephoto camera and the ultra-wide can't do macro photos and video, as these features are still reserved for the Pro models. However, the main one now gets a 48-megapixel sensor from the 14 Pro. There's sensor-shift stabilisation like before, and thanks to the higher resolution the 2X zoom level is said to offer “optical” quality magnification as it simply uses a smaller crop of the sensor. The ultra-wide is still the same 12-megapixel sensor, and the same goes for the front 12-megapixel camera. All cameras can record up to 4K 60fps videos in Dolby Vision, and there's a new Smart HDR 5 photo processing engine for a better balance of shadows and highlights.\\n\\niPhone 15 main camera sample\\n\\niPhone 15 ultra-wide camera sample\\n\\niPhone 15 close-up samples from main camera\\n\\nBy default, the iPhone 15 captures 24-megapixel pixel-binned photos. You can change this to 12-megapixels too from Settings, similar to how most Android phones with 48-megapixel cameras operate. In order to shoot at the full 48 megapixels, you'll need to enable a toggle in Settings, after which you'll see a ‘JPEG Max' option in the viewfinder. Keep in mind that shooting at the native resolution does introduce shutter lag, so you won't be able to do rapid shooting as effectively.\\n\\nImage quality in daylight is very good. You get plenty of details and colours are balanced out well, even when shooting under harsh sunlight. The ultra-wide camera is quite competent too under good lighting. Details are decent and barrel distortion is minimal. The camera app can now also recognise animals like dogs and cats, and will automatically suggest the option to enable background blur within the camera app. The Photos app will also detect images of pets you might have previously taken and give you the option to convert it to a portrait shot.\\n\\niPhone 15 zoom samples\\n\\niPhone 15 low-light camera samples\\n\\niPhone 15 selfie camera sample\\n\\nImages taken in low light with the main camera look very good. Noise is handled well, details are ample, and colours look natural. Magnifying the image more than 2X sees a big drop in image quality though. The ultra-wide is decent too, but details are weaker compared to the main camera. The selfie camera does a good job in daylight and in low light.\\n\\niPhones have long been the gold standard when it comes to video recording. The iPhone 15 captures rock-steady footage in good light, with no visible jitter and excellent details. Slight jitter is visible when shooting under artificial lighting at night, but only when you walk while recording.\\n\\nVerdict\\n\\nThe biggest drawback for the iPhone 15 is its pricing in India. At nearly Rs. 80,000 for the base model, it's quite expensive. Even if you factor in bank offers, we're still looking at a price upwards of Rs. 70,000, considering most people would opt for the 256GB variant. But, if you are someone who's willing to put down this sort of money, then you certainly won't be disappointed. Unlike the iPhone 14, which wasn't too different from the 13, the iPhone 15 takes a bigger leap forward by incorporating many of the advanced features from the 14 Pro models. A high refresh rate and a telephoto camera are two things I'm personally still waiting to see on the standard models, and we'll no doubt get there eventually after a few more generations.\\n\\nRight now, you should buy the iPhone 15 if you want some of the ‘Pro' features from the iPhone 14 Pro but don't want to spend a premium. Even though Apple has officially discontinued last year's Pro models, it's still ridiculously priced in India. If you you were waiting to trade in your iPhone 12 (or older) for something worthwhile, I would recommend getting the 15. On the other hand, if you just want an iPhone and don't care about the new features of the 15, this is a great time to buy the iPhone 13 at a heavily discounted price during festive sales.\\n\\nApple iPhone 15\\n\\nREVIEW\\n\\nKEY SPECS\\n\\nNEWS\\n\\nDesign\\n\\nDisplay\\n\\nSoftware\\n\\nPerformance\\n\\nBattery Life\\n\\nCamera\\n\\nValue for Money\\n\\nGood\\n\\nBig upgrades over the 14\\n\\nExcellent ergonomics, build quality\\n\\nVery good all-round performance\\n\\nApple ecosystem benefits\\n\\nBad\\n\\nRelatively slow charging\\n\\nExpensive\\n\\nStill a 60Hz display\\n\\nRead detailed  \\n\\nApple iPhone 15 review\\n\\nDisplay\\n\\n6.10-inch\\n\\nProcessor\\n\\nApple A16 Bionic\\n\\nFront Camera\\n\\n12-megapixel\\n\\nRear Camera\\n\\n48-megapixel + 12-megapixel\\n\\nRAM\\n\\n6GB\\n\\nStorage\\n\\n128GB, 256GB, 512GB\\n\\nOS\\n\\niOS 17\\n\\nResolution\\n\\n1179x2556 pixels\\n\\nApple Supplier Foxconn Expects Quarterly Sales to Fall as iPhone Doubts Grow\\n\\nApple Sheds $100 Billion in Market Cap as Barclays Predicts 'Lacklustre' iPhone 16: Report\\n\\niPhone 15 Price in India Discounted to as Low as Rs. 69,999 on Flipkart\\n\\niPhone 15 Series, iPads, MacBooks, Apple Watches Available at Discounted Prices at Vijay Sales Apple Days Sale\\n\\nMore  \\n\\nApple mobiles\\n\\nApple mobiles price in India\\n\\nComments\\n\\nCatch the latest from the Consumer Electronics Show on Gadgets 360, at our CES 2024 hub.\\n\\nApple,\\n\\nApple iPhone 15,\\n\\nApple iPhone 15 price,\\n\\nApple iPhone 15 price in India,\\n\\nApple iPhone 15 specifications\\n\\nVivo X100 Spotted on AnTuTu With Dimensity 9300 SoC; Vivo X100 Pro Allegedly Shows Up on Geekbench\\n\\nSamsung Galaxy S23 Series Gets Android 14 Update With Revamped One UI 6 Interface: How to Download\\n\\nRelated Stories\\n\\nApple Supplier Foxconn Expects Quarterly Sales to Fall as iPhone Doubts Grow\\n                                    \\n                                                                                    5 January 2024\\n\\nApple Vision Pro Safari Browsing Interface With Multitasking, 3D Object Support Leaks Ahead of Launch\\n                                    \\n                                                                                    5 January 2024\\n\\niPhone 16 Pro to Get Upgraded Ultra-Wide Angle, Telephoto Cameras; iPhone 17 to Sport New Selfie Camera: Kuo\\n                                    \\n                                                                                    4 January 2024\\n\\nApple Agrees to Settle Lawsuit That Alleged It Kept Stolen Funds From iTunes Gift Card Scams\\n                                    \\n                                                                                    4 January 2024\\n\\nApple Granted Patent That Envisions Creative Use of External Display on Apple Vision Pro\\n                                    \\n                                                                                    3 January 2024\\n\\nApple iPhone 15 Review: It's Time to Upgrade\\n\\n\\n\\n\\n\\n\\n\\n\\n\\n\\n\\nComment\\n\\nShare on Facebook\\n\\nTweet\\n\\nSnapchat\\n\\nShare\\n\\nReddit\\n\\nEmail\\n\\nComment\\n\\nGoogle News\\n\\nAdvertisement\\n\\nFeatured\\n\\nFuntouch OS 14: Simple and Refreshing Experience\\n\\nTechnical Guruji Talks About Intel EVO Laptops and More\\n\\nOPPO A79 5G: Setting New Benchmarks in Mid-Range Smartphone Segment\\n\\nFollow Us\\n\\n\\n\\n\\n\\n\\n\\n\\n\\n\\n\\n\\n\\nLatest Videos\\n\\n18:18 \\r\\n                                                 \\r\\n                                                 Gadgets 360 With TG:  The Most Noteworthy and Memorable Gadgets of 2023\\n\\n18:01 \\r\\n                                                 \\r\\n                                                 Tech With TG: Understanding India's High-Speed Data Connectivity With Union Minister Ashwini Vaishnaw\\n\\n01:35 \\r\\n                                                 \\r\\n                                                 OnePlus 12R: Display and Battery Specs Revealed.\\n\\n02:55 \\r\\n                                                 \\r\\n                                                 Redmi Note 13 Pro+: Unboxing & First Look\\n\\n02:01 \\r\\n                                                 \\r\\n                                                 5 Major Changes to Your UPI Transactions in 2024 by RBI\\n\\nMore Videos\\n\\nTech News in Hindi\\n\\n200 मेगापिक्सल कैमरा वाला Honor 90 5G सेल में मिल 6 हजार रुपये सस्ता\\n\\nRealme 12 Pro होगा 50MP ट्रिपल कैमरा, 5000mAh बैटरी के साथ लॉन्च!\\n\\nHonor X50 GT लॉन्च हुआ 16GB रैम, 5800mAh बैटरी, OLED डिस्प्ले के साथ\\n\\n2024 का पहला सूर्य ग्रहण कब है? क्\\u200dया भारत में दिखाई देगा? जानें\\n\\nSamsung Galaxy S24 Ultra के लॉन्च से पहले रीयल इमेज लीक, ऐसा दिखता है 200MP कैमरा वाला फ्लैगशिप फोन!\\n\\nMore Technology News in Hindi\\n\\nAdvertisement\\n\\nPopular on Gadgets\\n\\nCES 2024\\n\\nBest Smartphones of 2023\\n\\nApple\\n\\nOneplus\\n\\niPhone 14\\n\\nApple iPhone 15\\n\\nOnePlus Nord CE 3 Lite 5G\\n\\niPhone 13\\n\\nXiaomi 14 Pro\\n\\nOppo Find N3\\n\\nTecno Spark Go (2023)\\n\\nRealme V30\\n\\nBest Phones Under 25000\\n\\nSamsung Galaxy S24 Series\\n\\nCryptocurrency\\n\\niQoo 12\\n\\nSamsung Galaxy S24 Ultra\\n\\nGiottus\\n\\nSamsung Galaxy Z Flip 5\\n\\nApple 'Scary Fast'\\n\\nHousefull 5\\n\\nGoPro Hero 12 Black Review\\n\\nInvincible Season 2\\n\\nJioGlass\\n\\nHD Ready TV\\n\\nLaptop Under 50000\\n\\nSmartwatch Under 10000\\n\\nLatest Mobile Phones\\n\\nCompare Phones\\n\\nLatest Gadgets\\n\\nOnePlus 12R\\n\\nHonor X50 GT\\n\\nOnePlus Ace 3\\n\\nItel A70\\n\\nSamsung Galaxy S24 Ultra\\n\\nSamsung Galaxy S24+\\n\\nSamsung Galaxy S24\\n\\nVivo V30 Lite 5G\\n\\nDell XPS 16 9640 (Intel Core Ultra 9)\\n\\nDell XPS 16 9640\\n\\nHonor Tablet 9\\n\\nHuawei MatePad Pro 11 2024\\n\\nFire-Boltt Dream\\n\\niQOO Watch\\n\\nXiaomi 32 Inch LED HD Ready Smart TV (L32M6-RA-L32M7-RA)\\n\\nXiaomi 43 Inch LED Full HD Smart TV (5A Series L43M7-EAIN)\\n\\nNintendo Switch (OLED Model)\\n\\nMicrosoft Xbox Series S\\n\\nSamsung 1.5 Ton 3 Star Inverter Split AC (AR18CY3ZAWK)\\n\\nLloyd 1 Ton 3 Star Inverter Split AC (GLS12I3FWSBA)\\n\\nPopular Mobile Brands\\n\\nApple\\n\\nAsus\\n\\nGionee\\n\\nGoogle\\n\\nHonor\\n\\nHuawei\\n\\nInfinix\\n\\niQOO\\n\\nItel\\n\\nJio\\n\\nLava\\n\\nLenovo\\n\\nMeizu\\n\\nMotorola\\n\\nNokia\\n\\nNubia\\n\\nOnePlus\\n\\nOppo\\n\\nPoco\\n\\nRealme\\n\\nRedmi\\n\\nSamsung\\n\\nSharp\\n\\nSony\\n\\nTCL\\n\\nTecno\\n\\nXiaomi\\n\\nZTE\\n\\n#Trending Stories\\n\\nOnePlus 12R to Be Available for Purchase via Amazon: See Colour Options\\n\\nSamsung Galaxy S24, S24+ and S24 Ultra Might Debut at These Prices\\n\\nRedmi Note 13 5G Series With 6.67-inch AMOLED Screens Launched in India\\n\\nOnePlus Buds 3 With Active Noise Cancellation Launched at This Price\\n\\nLava Blaze Curve 5G India Launch Teased, Could Debut Soon\\n\\nAmazon Great Republic Day Sale With Deals on Mobiles, Laptops Announced\\n\\nOppo Reno 11 Pro, Reno 11 Price Tipped; to Launch in India on This Date\\n\\nEverything Is New About the Upcoming Redmi Note 13 Series\\n\\nPoco X6 Pro Confirmed to Launch With Xiaomi's New HyperOS\\n\\nRealme 12 Pro, Realme 12 Pro+ Key Specifications Leaked: Check Here\\n\\n#Latest Stories\\n\\nISRO's Aditya-L1 Solar Mission Reaches Destination Within Four-Month Timeframe\\n\\nLava Blaze Curve 5G India Launch Teased by Top Executive, Could Debut as Affordable Curved Smartphone\\n\\nOnePlus 12R to Be Available for Purchase via Amazon, Colour Options Revealed Ahead of Launch in India\\n\\nISRO Set to Place Aditya-L1 Spacecraft in Final Destination Orbit: All You Need to Know\\n\\nSamsung Galaxy S24, Galaxy S24+ and Galaxy S24 Ultra Pricing Tipped Again Ahead of Debut\\n\\nAmazon Great Republic Day Sale 2024 With Discounts on Mobiles, Laptops Announced\\n\\nGoogle Restricts Downloads of Airalo, Holafly in India for Not Complying With DoT Policy: Report\\n\\nIndian Police Force Trailer Drops: Sidharth Malhotra, Shilpa Shetty, Vivek Oberoi Play Fearless Cops\\n\\nGoogle Bard Advanced Tipped to Arrive as Paid Subscription, Might Be Linked to Google One\\n\\nSolana Co-Founder's Deepfake Video Surfaces Online, Crypto Users on Twitter Ask Big Tech to be Prompt\\n\\nAbout Us\\n\\nSitemaps\\n\\nFeedback\\n\\nArchives\\n\\nContact Us\\n\\nRSS\\n\\nAdvertise\\n\\nCareer\\n\\nPrivacy Policy\\n\\nEthics\\n\\nEditorial Policy\\n\\nTerms &AMP; Conditions\\n\\nComplaint Redressal\\n\\nGadgets 360 is available in\\n\\nEnglish\\n\\nHindi\\n\\nFollow Us\\n\\nFacebook\\n\\nTwitter\\n\\nYoutube\\n\\nInstagram\\n\\nWhatsApp\\n\\nRss\\n\\nDownload Our Apps\\n\\nAvailable in Hindi\\n\\n&COPY; Copyright Red Pixels Ventures Limited 2024. All rights reserved.\\n\\nTrending Products\\xa0»\\n\\nRedmi Note 13 5G\\n                                                                    Starts from ₹17,999\\n\\nRedmi Note 13 Pro 5G\\n                                                                    Starts from ₹25,999\\n\\nRedmi Note 13 Pro+ 5G\\n                                                                    Starts from ₹31,999\\n\\nRedmi 13C\\n                                                                    Starts from ₹8,999\\n\\nItel A70\\n                                                                    Starts from ₹6,799\\n\\nRedmi 13C 5G\\n                                                                    Starts from ₹10,999\\n\\nLatest Tech News\\xa0»\\n\\nISRO's Aditya-L1 Solar Mission Reaches Destination Within Four-Month Timeframe\\n\\nLava Blaze Curve 5G India Launch Teased by Top Executive, Could Debut as Affordable Curved Smartphone\\n\\nOnePlus 12R to Be Available for Purchase via Amazon, Colour Options Revealed Ahead of Launch in India\\n\\nISRO Set to Place Aditya-L1 Spacecraft in Final Destination Orbit: All You Need to Know\", metadata={'source': 'https://www.gadgets360.com/mobiles/reviews/iphone-15-review-price-in-india-apple-4532174'})"
      ]
     },
     "execution_count": 22,
     "metadata": {},
     "output_type": "execute_result"
    }
   ],
   "source": [
    "data[0]    #loads document from 1st URL.\n",
    "#data[0].metadata    #to loadmetadata of the element"
   ]
  },
  {
   "cell_type": "code",
   "execution_count": null,
   "id": "8131ffe9-be30-4506-90e7-a41f698494f5",
   "metadata": {},
   "outputs": [],
   "source": []
  }
 ],
 "metadata": {
  "kernelspec": {
   "display_name": "Python 3 (ipykernel)",
   "language": "python",
   "name": "python3"
  },
  "language_info": {
   "codemirror_mode": {
    "name": "ipython",
    "version": 3
   },
   "file_extension": ".py",
   "mimetype": "text/x-python",
   "name": "python",
   "nbconvert_exporter": "python",
   "pygments_lexer": "ipython3",
   "version": "3.11.4"
  }
 },
 "nbformat": 4,
 "nbformat_minor": 5
}
